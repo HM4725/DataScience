{
 "cells": [
  {
   "attachments": {},
   "cell_type": "markdown",
   "id": "6a6b0752",
   "metadata": {},
   "source": [
    "### 설정"
   ]
  },
  {
   "cell_type": "code",
   "execution_count": 22,
   "id": "f642fe8f",
   "metadata": {},
   "outputs": [],
   "source": [
    "import pandas as pd\n",
    "import matplotlib.pyplot as plt"
   ]
  },
  {
   "attachments": {},
   "cell_type": "markdown",
   "id": "e2ba1a9e",
   "metadata": {},
   "source": [
    "### 환율 데이터셋\n",
    "|Content|Type|\n",
    "|---|-----|\n",
    "|Dataset|Tabluar, Time-series (ordered)|\n",
    "|Feature|Nuemeric (ratio-scaled)|"
   ]
  },
  {
   "cell_type": "code",
   "execution_count": null,
   "id": "01a7e808",
   "metadata": {},
   "outputs": [],
   "source": [
    "from scipy.interpolate import make_interp_spline\n",
    "\n",
    "df = pd.read_csv('./dataset/dollar_exchnage_rates.csv')[['Date', 'KRW=X']]\n",
    "ys = df['KRW=X'].dropna()\n",
    "xs = df['Date'][1:]\n",
    "model = make_interp_spline(ys.index, ys, k=5)\n",
    "xlabels = xs.apply(lambda x: x[-4:])\n",
    "plt.plot(xs, model(xs.index))\n",
    "plt.xticks(ticks=xs, labels=xlabels, rotation=90)\n",
    "plt.locator_params(axis='x', nbins=19)\n",
    "plt.show()"
   ]
  },
  {
   "attachments": {},
   "cell_type": "markdown",
   "id": "04070462",
   "metadata": {},
   "source": [
    "### 사람: 성별, 키, 몸무게, 체형 데이터셋\n",
    "#### Feature types\n",
    "|Height|Weight|Sex|\n",
    "|---|---|---|\n",
    "|Numeric(ratio-scaled)|Numeric(ratio-scaled)|Binary|"
   ]
  },
  {
   "cell_type": "code",
   "execution_count": 196,
   "id": "856153dc",
   "metadata": {},
   "outputs": [],
   "source": [
    "def remove_outliers(df, feature, step=1.5):\n",
    "    df = df.sort_values(feature).iloc[:-1]\n",
    "    IQR = slice(len(df) // 4, 3 * len(df) // 4)\n",
    "    lower_quartile = df.iloc[IQR.start][feature]\n",
    "    upper_quartile = df.iloc[IQR.stop][feature]\n",
    "    box_height = upper_quartile - lower_quartile\n",
    "    whiskers_start = lower_quartile - step * box_height\n",
    "    whiskers_end = upper_quartile + step * box_height\n",
    "    df = df[df[feature] >= whiskers_start]\n",
    "    df = df[df[feature] < whiskers_end]\n",
    "    return df\n",
    "        \n",
    "\n",
    "\n",
    "df = pd.read_csv('./dataset/height-weight-sex-train.csv').dropna()\n",
    "df = remove_outliers(df, 'Height')\n",
    "df = remove_outliers(df, 'Weight', step=1.5)"
   ]
  },
  {
   "cell_type": "code",
   "execution_count": null,
   "id": "72d415cd",
   "metadata": {},
   "outputs": [],
   "source": [
    "df.hist('Height')\n",
    "min = df['Height'].min()\n",
    "max = df['Height'].max()\n",
    "print((max - min) / 2)"
   ]
  },
  {
   "cell_type": "code",
   "execution_count": null,
   "id": "e5de039b",
   "metadata": {},
   "outputs": [],
   "source": [
    "df.hist('Weight')"
   ]
  },
  {
   "cell_type": "code",
   "execution_count": null,
   "id": "803338d6",
   "metadata": {},
   "outputs": [],
   "source": [
    "sorted_df = df.sort_values('Height')\n",
    "plt.scatter(sorted_df['Weight'], sorted_df['Height'], s=1)\n",
    "plt.xlabel('Weight (kg)')\n",
    "plt.ylabel('Height (cm)')\n",
    "plt.show()"
   ]
  }
 ],
 "metadata": {
  "kernelspec": {
   "display_name": "Python 3 (ipykernel)",
   "language": "python",
   "name": "python3"
  },
  "language_info": {
   "codemirror_mode": {
    "name": "ipython",
    "version": 3
   },
   "file_extension": ".py",
   "mimetype": "text/x-python",
   "name": "python",
   "nbconvert_exporter": "python",
   "pygments_lexer": "ipython3",
   "version": "3.10.11"
  }
 },
 "nbformat": 4,
 "nbformat_minor": 5
}
