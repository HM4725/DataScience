{
 "cells": [
  {
   "cell_type": "code",
   "execution_count": 7,
   "metadata": {},
   "outputs": [],
   "source": [
    "import pandas as pd\n",
    "import numpy as np\n",
    "import random\n",
    "import matplotlib.pyplot as plt"
   ]
  },
  {
   "cell_type": "code",
   "execution_count": 13,
   "metadata": {},
   "outputs": [],
   "source": [
    "columns = ['uid', 'type', 'session', 'date', 'accuracy', 'response', 'teamId']\n",
    "types = ['visionEasy', 'visionHard', 'neuro', 'agileBasic', 'agileAppl']\n",
    "uids = ['Hp4NfMsd4DOYz1MuDY6XRSjNrKn1', 'kElqDoHG08UhuevA9vZ416Bk4Z32', 'SypeKJL0E7MPqHtHeT9m6zxw1on2',\n",
    "       '7ZGGTiux8BOv7jtGaInK3Z1Is6B2', 'WvToXNiYbMaTDplaeyzbjLYuivA3', 'FVMf662phNRhjs8RByAmN3w0OnU2',\n",
    "       'yetrI2eurIZL7eRs4sFDjpixTDn1', '0X52g9sDOjRD08NhVb8nxZV5Ng32', 'uwUDLJA3RbSvKdEdvJZzV33dH422',\n",
    "       'GPuHIibNcHYZnTGTof4AF3obSWq1', 'E8SyXjqE6ee6BmPqW2aIpnb6QPg2', 'cvEArEFeZhZTR3WsvjI3DU0vKGL2',\n",
    "       'WLnLvXlGUDPZ8XIqqwAuQ2EXh5i2', '6ymn3mXbr1XhFyOsvu9aKzdXOmz1', 'h77ImUM5V8OG7gG8oHu73pUwJE92',\n",
    "       'mB4QorcMDPgYVRNGWXP4JIiJbbR2'\n",
    "]\n",
    "sessions = [1, 2, 3, 4, 5, 6, 7, 8]\n",
    "dates = ['2023-05-04', '2023-05-11', '2023-05-18', '2023-05-25',\n",
    "         '2023-06-01', '2023-06-08', '2023-06-15', '2023-06-22']\n",
    "teamId = 'zHBzVhHJ3FcGGbYCJcCHADsjUGw1'"
   ]
  },
  {
   "cell_type": "code",
   "execution_count": 17,
   "metadata": {},
   "outputs": [],
   "source": [
    "def get_accuracy(type, session):\n",
    "    accuracy = 30 + session * 5 + 20 * random.random()\n",
    "    if type == 'visionHard' or type == 'agileAppl':\n",
    "        accuracy -= 10 * random.random()\n",
    "    return min(round(accuracy, 1), 100)\n",
    "\n",
    "\n",
    "def get_response(type, session):\n",
    "    if type == 'visionEasy':\n",
    "        response = 7 - session * 0.25 - random.random()\n",
    "    elif type == 'visionHard':\n",
    "        response = 8 - session * 0.25 - 2 * random.random()\n",
    "    elif type == 'neuro':\n",
    "        response = 3 - session * 0.15 - 0.5 * random.random()\n",
    "    elif type == 'agileBasic':\n",
    "        response = 30 - session * 1.125 - 4 * random.random()\n",
    "    elif type == 'agileAppl':\n",
    "        response = 34 - session * 1.125 - 8 * random.random()\n",
    "    return round(response, 1)\n",
    "\n",
    "\n",
    "res = [[uid, t, s, dates[i], get_accuracy(t, s), get_response(t, s), teamId]\n",
    "       for uid in uids for t in types for i, s in enumerate(sessions)]\n",
    "\n",
    "df = pd.DataFrame({columns[i]: [r[i] for r in res] for i in range(0, len(columns))})\n",
    "df.to_csv('dummy-noi.csv', index=False)"
   ]
  }
 ],
 "metadata": {
  "kernelspec": {
   "display_name": "data-science",
   "language": "python",
   "name": "python3"
  },
  "language_info": {
   "codemirror_mode": {
    "name": "ipython",
    "version": 3
   },
   "file_extension": ".py",
   "mimetype": "text/x-python",
   "name": "python",
   "nbconvert_exporter": "python",
   "pygments_lexer": "ipython3",
   "version": "3.10.11"
  },
  "orig_nbformat": 4
 },
 "nbformat": 4,
 "nbformat_minor": 2
}
