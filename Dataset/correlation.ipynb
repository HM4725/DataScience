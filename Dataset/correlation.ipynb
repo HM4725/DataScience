{
 "cells": [
  {
   "cell_type": "code",
   "execution_count": null,
   "metadata": {},
   "outputs": [],
   "source": [
    "import pandas as pd\n",
    "import numpy as np\n",
    "from scipy.interpolate import make_interp_spline\n",
    "import matplotlib.pyplot as plt"
   ]
  },
  {
   "attachments": {},
   "cell_type": "markdown",
   "metadata": {},
   "source": [
    "## Correlation\n",
    "For numeric features"
   ]
  },
  {
   "cell_type": "code",
   "execution_count": null,
   "metadata": {},
   "outputs": [],
   "source": [
    "def pearson_corr(a, b):\n",
    "    n = len(a)\n",
    "    mean_a = a.mean()\n",
    "    mean_b = b.mean()\n",
    "    std_a = a.std()\n",
    "    std_b = b.std()\n",
    "    numerator = (a * b).sum() - (n * mean_a * mean_b)\n",
    "    denominator = (n - 1) * std_a * std_b\n",
    "    return numerator / denominator\n",
    "\n",
    "\n",
    "def corr_matrix(mtrx):\n",
    "    n = len(mtrx)\n",
    "    means = mtrx.mean(axis=0)\n",
    "    stds = mtrx.std(axis=0)\n",
    "    mtrx_means = np.expand_dims(means, axis=1) @ np.expand_dims(means, axis=0)\n",
    "    mtrx_stds = np.expand_dims(stds, axis=1) @ np.expand_dims(stds, axis=0)\n",
    "    mtrx_mults = mtrx.T @ mtrx\n",
    "    numerator = mtrx_mults - n * mtrx_means\n",
    "    denominator = (n - 1) * mtrx_stds\n",
    "    return numerator / denominator"
   ]
  },
  {
   "attachments": {},
   "cell_type": "markdown",
   "metadata": {},
   "source": [
    "### Correlation of 2 features"
   ]
  },
  {
   "cell_type": "code",
   "execution_count": null,
   "metadata": {},
   "outputs": [],
   "source": [
    "df = pd.read_csv('dataset/height-weight-sex-train.csv')\n",
    "h_bound = (120, 200)\n",
    "w_bound = (30, 120)\n",
    "df = df[(df['Height'] > h_bound[0]) & (df['Height'] < h_bound[1])]\n",
    "df = df[(df['Weight'] > w_bound[0]) & (df['Weight'] < w_bound[1])]\n",
    "mtrx = df[['Height', 'Weight']].to_numpy()\n",
    "print('r: {}'.format(pearson_corr(mtrx[:, 0], mtrx[:, 1])))"
   ]
  },
  {
   "attachments": {},
   "cell_type": "markdown",
   "metadata": {},
   "source": [
    "### Correlation matrix of multiple features"
   ]
  },
  {
   "cell_type": "code",
   "execution_count": null,
   "metadata": {},
   "outputs": [],
   "source": [
    "targets = ['KRW=X', 'CNY=X', 'JPY=X', 'VND=X', 'SGD=X', 'EUR=X']\n",
    "df = pd.read_csv('./dataset/dollar_exchange_rates.csv')[['Date', *targets]]\n",
    "ys = df[targets].dropna()\n",
    "xs = df['Date'][1:]\n",
    "model = make_interp_spline(ys.index, ys, k=5)\n",
    "mtrx = model(xs.index)\n",
    "index = list(map(lambda s: s.split('=')[0], targets))\n",
    "df = pd.DataFrame(corr_matrix(mtrx), columns=index, index=index)\n",
    "\n",
    "plt.matshow(df, cmap='plasma')\n",
    "for (i, j), z in np.ndenumerate(df):\n",
    "    plt.text(j, i, '{:0.1f}'.format(z), ha='center', va='center')\n",
    "plt.xticks(range(0, len(df.columns)), df.columns)\n",
    "plt.yticks(range(0, len(df.index)), df.index)\n",
    "plt.colorbar()\n",
    "plt.title('Correlation Matrix of dollar exchange rates', pad=40)\n",
    "plt.show()"
   ]
  }
 ],
 "metadata": {
  "kernelspec": {
   "display_name": "data-science",
   "language": "python",
   "name": "python3"
  },
  "language_info": {
   "codemirror_mode": {
    "name": "ipython",
    "version": 3
   },
   "file_extension": ".py",
   "mimetype": "text/x-python",
   "name": "python",
   "nbconvert_exporter": "python",
   "pygments_lexer": "ipython3",
   "version": "3.10.11"
  },
  "orig_nbformat": 4
 },
 "nbformat": 4,
 "nbformat_minor": 2
}
