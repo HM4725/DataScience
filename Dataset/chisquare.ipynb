{
 "cells": [
  {
   "cell_type": "code",
   "execution_count": null,
   "metadata": {},
   "outputs": [],
   "source": [
    "import pandas as pd\n",
    "import numpy as np"
   ]
  },
  {
   "cell_type": "code",
   "execution_count": null,
   "metadata": {},
   "outputs": [],
   "source": [
    "def chi_sqaure(mtrx):\n",
    "    \"\"\"\n",
    "    SUM[{P(A ∩ B) - P(A) * P(B)}^2 / {P(A) * P(B)} * N]\n",
    "    \"\"\"\n",
    "    sum_row = np.expand_dims(mtrx.sum(axis=1), axis=1)\n",
    "    sum_col = np.expand_dims(mtrx.sum(axis=0), axis=0)\n",
    "    sum_total = mtrx.sum()\n",
    "    mtrx_exp = (sum_row @ sum_col) / sum_total\n",
    "    return ((mtrx - mtrx_exp) ** 2 / mtrx_exp).sum()"
   ]
  },
  {
   "cell_type": "code",
   "execution_count": null,
   "metadata": {},
   "outputs": [],
   "source": [
    "# Normial Features\n",
    "\n",
    "df = pd.read_csv('dataset/height-weight-sex-train.csv')\n",
    "# Numeric -> Normial (height, weight)\n",
    "h_bound = (120, 200)\n",
    "w_bound = (30, 120)\n",
    "df = df[(df['Height'] > h_bound[0]) & (df['Height'] < h_bound[1])]\n",
    "df = df[(df['Weight'] > w_bound[0]) & (df['Weight'] < w_bound[1])]\n",
    "df['height'] = pd.cut(df.Height, bins=range(h_bound[0], h_bound[1]+1, 10))\n",
    "df['weight'] = pd.cut(df.Weight, bins=range(w_bound[0], w_bound[1]+1, 10))\n",
    "mtrx = pd.crosstab(df['height'], df['weight']).to_numpy()\n",
    "print('X²: {}'.format(chi_sqaure(mtrx)))\n"
   ]
  }
 ],
 "metadata": {
  "kernelspec": {
   "display_name": "data-science",
   "language": "python",
   "name": "python3"
  },
  "language_info": {
   "codemirror_mode": {
    "name": "ipython",
    "version": 3
   },
   "file_extension": ".py",
   "mimetype": "text/x-python",
   "name": "python",
   "nbconvert_exporter": "python",
   "pygments_lexer": "ipython3",
   "version": "3.10.11"
  },
  "orig_nbformat": 4
 },
 "nbformat": 4,
 "nbformat_minor": 2
}
