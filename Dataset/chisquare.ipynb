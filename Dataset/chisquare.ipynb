{
 "cells": [
  {
   "cell_type": "code",
   "execution_count": 1,
   "metadata": {},
   "outputs": [],
   "source": [
    "import pandas as pd\n",
    "import numpy as np"
   ]
  },
  {
   "cell_type": "code",
   "execution_count": 2,
   "metadata": {},
   "outputs": [],
   "source": [
    "def chi_sqaure(mtrx):\n",
    "    \"\"\"\n",
    "    SUM[{P(A ∩ B) - P(A) * P(B)}^2 / {P(A) * P(B)} * N]\n",
    "    \"\"\"\n",
    "    sum_row = np.expand_dims(mtrx.sum(axis=1), axis=1)\n",
    "    sum_col = np.expand_dims(mtrx.sum(axis=0), axis=0)\n",
    "    sum_total = mtrx.sum()\n",
    "    mtrx_exp = (sum_row @ sum_col) / sum_total\n",
    "    return ((mtrx - mtrx_exp) ** 2 / mtrx_exp).sum()"
   ]
  },
  {
   "cell_type": "code",
   "execution_count": 5,
   "metadata": {},
   "outputs": [
    {
     "name": "stdout",
     "output_type": "stream",
     "text": [
      "X²: 342.6188429774645\n",
      "weight      (30, 40]  (40, 50]  (50, 60]  (60, 70]  (70, 80]  (80, 90]  \\\n",
      "height                                                                   \n",
      "(120, 130]         1         7         9        16        14         3   \n",
      "(130, 140]         6        20        59        78        53        15   \n",
      "(140, 150]         9        70       133       156        86        30   \n",
      "(150, 160]        20        63       160       190       125        65   \n",
      "(160, 170]         9        43       133       161       153        90   \n",
      "(170, 180]         9        32        78       122       146       131   \n",
      "(180, 190]         3        10        22        39        62        40   \n",
      "(190, 200]         0         3         5        14        10         5   \n",
      "\n",
      "weight      (90, 100]  (100, 110]  (110, 120]  \n",
      "height                                         \n",
      "(120, 130]          0           0           0  \n",
      "(130, 140]          0           0           0  \n",
      "(140, 150]          7           1           0  \n",
      "(150, 160]         25           6           2  \n",
      "(160, 170]         63          21           7  \n",
      "(170, 180]         72          22           4  \n",
      "(180, 190]         24           8           0  \n",
      "(190, 200]          3           2           0  \n"
     ]
    }
   ],
   "source": [
    "# Normial Features\n",
    "\n",
    "df = pd.read_csv('dataset/height-weight-sex-train.csv')\n",
    "# Numeric -> Normial (height, weight)\n",
    "h_bound = (120, 200)\n",
    "w_bound = (30, 120)\n",
    "df = df[(df['Height'] > h_bound[0]) & (df['Height'] < h_bound[1])]\n",
    "df = df[(df['Weight'] > w_bound[0]) & (df['Weight'] < w_bound[1])]\n",
    "df['height'] = pd.cut(df.Height, bins=range(h_bound[0], h_bound[1]+1, 10))\n",
    "df['weight'] = pd.cut(df.Weight, bins=range(w_bound[0], w_bound[1]+1, 10))\n",
    "mtrx = pd.crosstab(df['height'], df['weight']).to_numpy()\n",
    "print('X²: {}'.format(chi_sqaure(mtrx)))\n",
    "print(pd.crosstab(df['height'], df['weight']))\n"
   ]
  }
 ],
 "metadata": {
  "kernelspec": {
   "display_name": "data-science",
   "language": "python",
   "name": "python3"
  },
  "language_info": {
   "codemirror_mode": {
    "name": "ipython",
    "version": 3
   },
   "file_extension": ".py",
   "mimetype": "text/x-python",
   "name": "python",
   "nbconvert_exporter": "python",
   "pygments_lexer": "ipython3",
   "version": "3.10.11"
  },
  "orig_nbformat": 4
 },
 "nbformat": 4,
 "nbformat_minor": 2
}
