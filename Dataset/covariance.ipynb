{
 "cells": [
  {
   "cell_type": "code",
   "execution_count": null,
   "metadata": {},
   "outputs": [],
   "source": [
    "import pandas as pd\n",
    "import numpy as np\n",
    "from scipy.interpolate import make_interp_spline\n",
    "import matplotlib.pyplot as plt\n",
    "import decimal"
   ]
  },
  {
   "attachments": {},
   "cell_type": "markdown",
   "metadata": {},
   "source": [
    "## Covariance\n",
    "For numeric features"
   ]
  },
  {
   "cell_type": "code",
   "execution_count": null,
   "metadata": {},
   "outputs": [],
   "source": [
    "def cov(a, b):\n",
    "    mean_a = a.mean()\n",
    "    mean_b = b.mean()\n",
    "    return (a * b).mean() - mean_a * mean_b\n",
    "\n",
    "\n",
    "def cov_matrix(mtrx):\n",
    "    n = len(mtrx)\n",
    "    means = mtrx.mean(axis=0)\n",
    "    mtrx_means = np.expand_dims(means, axis=1) @ np.expand_dims(means, axis=0)\n",
    "    mtrx_mults = mtrx.T @ mtrx / n\n",
    "    return mtrx_mults - mtrx_means"
   ]
  },
  {
   "attachments": {},
   "cell_type": "markdown",
   "metadata": {},
   "source": [
    "### Covariance of 2 features"
   ]
  },
  {
   "cell_type": "code",
   "execution_count": null,
   "metadata": {},
   "outputs": [],
   "source": [
    "df = pd.read_csv('dataset/height-weight-sex-train.csv')\n",
    "h_bound = (120, 200)\n",
    "w_bound = (30, 120)\n",
    "df = df[(df['Height'] > h_bound[0]) & (df['Height'] < h_bound[1])]\n",
    "df = df[(df['Weight'] > w_bound[0]) & (df['Weight'] < w_bound[1])]\n",
    "mtrx = df[['Height', 'Weight']].to_numpy()\n",
    "print('Cov: {}'.format(cov(mtrx[:, 0], mtrx[:, 1])))"
   ]
  },
  {
   "attachments": {},
   "cell_type": "markdown",
   "metadata": {},
   "source": [
    "### Covariance matrix of multiple features"
   ]
  },
  {
   "cell_type": "code",
   "execution_count": null,
   "metadata": {},
   "outputs": [],
   "source": [
    "targets = ['KRW=X', 'CNY=X', 'JPY=X', 'VND=X', 'SGD=X', 'EUR=X']\n",
    "df = pd.read_csv('./dataset/dollar_exchange_rates.csv')[['Date', *targets]]\n",
    "ys = df[targets].dropna()\n",
    "xs = df['Date'][1:]\n",
    "model = make_interp_spline(ys.index, ys, k=5)\n",
    "mtrx = model(xs.index)\n",
    "df = pd.DataFrame(cov_matrix(mtrx), columns=targets, index=targets)\n",
    "\n",
    "plt.matshow(df, cmap='plasma')\n",
    "for (i, j), z in np.ndenumerate(df):\n",
    "    plt.text(j, i, '{:0.1e}'.format(\n",
    "        decimal.Decimal(z)), ha='center', va='center')\n",
    "plt.xticks(range(0, len(df.columns)), df.columns)\n",
    "plt.yticks(range(0, len(df.index)), df.index)\n",
    "plt.colorbar()\n",
    "plt.title('Covariance Matrix of dollar exchange rates', pad=40)\n",
    "plt.show()"
   ]
  }
 ],
 "metadata": {
  "kernelspec": {
   "display_name": "data-science",
   "language": "python",
   "name": "python3"
  },
  "language_info": {
   "codemirror_mode": {
    "name": "ipython",
    "version": 3
   },
   "file_extension": ".py",
   "mimetype": "text/x-python",
   "name": "python",
   "nbconvert_exporter": "python",
   "pygments_lexer": "ipython3",
   "version": "3.10.11"
  },
  "orig_nbformat": 4
 },
 "nbformat": 4,
 "nbformat_minor": 2
}
