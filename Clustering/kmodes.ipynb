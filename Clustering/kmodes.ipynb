{
 "cells": [
  {
   "cell_type": "code",
   "execution_count": null,
   "metadata": {},
   "outputs": [],
   "source": [
    "import pandas as pd\n",
    "import numpy as np\n",
    "import matplotlib.pyplot as plt"
   ]
  },
  {
   "cell_type": "code",
   "execution_count": null,
   "metadata": {},
   "outputs": [],
   "source": [
    "def assign(dataset, centroids):\n",
    "    \"\"\"\n",
    "    Time complexity: O(K*N)\n",
    "    \"\"\"\n",
    "    K = len(centroids)\n",
    "    clusters = [[] for _ in range(K)]\n",
    "    assigned = [np.sum((np.tile(d, (K, 1)) - centroids)**2,\n",
    "                       axis=1).argmin() for d in dataset]\n",
    "    for i, c in enumerate(assigned):\n",
    "        clusters[c].append(dataset[i])\n",
    "    return list(map(np.array, clusters))\n",
    "\n",
    "\n",
    "def update(clusters):\n",
    "    \"\"\"\n",
    "    Time complexity: O(N)\n",
    "    \"\"\"\n",
    "    return [c.mean(axis=0).round() for c in clusters]\n",
    "\n",
    "\n",
    "def compare(centroids1, centroids2):\n",
    "    \"\"\"\n",
    "    Time complexity: O(K)\n",
    "    \"\"\"\n",
    "    K = len(centroids1)\n",
    "    for i in range(K):\n",
    "        if (centroids1[i] == centroids2[i]).min() == False:\n",
    "            return False\n",
    "    return True"
   ]
  },
  {
   "cell_type": "code",
   "execution_count": null,
   "metadata": {},
   "outputs": [],
   "source": [
    "K = 3\n",
    "columns = ['track_popularity', 'key']\n",
    "df = pd.read_csv('./dataset/spotify.csv')[columns]\n",
    "dataset = df.to_numpy()\n",
    "seeds = [x for x in range(0, len(df), len(df)//K)][:K]\n",
    "centroids = dataset[seeds]"
   ]
  },
  {
   "cell_type": "code",
   "execution_count": null,
   "metadata": {},
   "outputs": [],
   "source": [
    "# K-modes Method\n",
    "old_centroids = [np.zeros(len(columns)) for _ in range(K)]\n",
    "old_clusters = [[] for _ in range(K)]\n",
    "new_centroids = centroids\n",
    "new_clusters = assign(dataset, centroids)\n",
    "\n",
    "t = 0\n",
    "while not compare(old_centroids, new_centroids):\n",
    "    print(f'{t}/ old: {old_centroids[0]}..., new: {new_centroids[0]}...')\n",
    "    t += 1\n",
    "    old_centroids = new_centroids\n",
    "    old_clusters = new_clusters\n",
    "    new_centroids = update(new_clusters)\n",
    "    new_clusters = assign(dataset, new_centroids)\n",
    "clusters = new_clusters\n",
    "centroids = new_centroids"
   ]
  },
  {
   "cell_type": "code",
   "execution_count": null,
   "metadata": {},
   "outputs": [],
   "source": [
    "for c in clusters:\n",
    "    plt.scatter(c.T[0], c.T[1], s=1)\n",
    "for c in centroids:\n",
    "    plt.scatter(c[0], c[1], s=20, c='black')\n",
    "plt.xlabel(columns[0])\n",
    "plt.ylabel(columns[1])\n",
    "plt.show()"
   ]
  }
 ],
 "metadata": {
  "kernelspec": {
   "display_name": "data-science",
   "language": "python",
   "name": "python3"
  },
  "language_info": {
   "codemirror_mode": {
    "name": "ipython",
    "version": 3
   },
   "file_extension": ".py",
   "mimetype": "text/x-python",
   "name": "python",
   "nbconvert_exporter": "python",
   "pygments_lexer": "ipython3",
   "version": "3.10.11"
  },
  "orig_nbformat": 4
 },
 "nbformat": 4,
 "nbformat_minor": 2
}
