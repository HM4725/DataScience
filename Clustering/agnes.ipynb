{
 "cells": [
  {
   "cell_type": "code",
   "execution_count": 6,
   "metadata": {},
   "outputs": [],
   "source": [
    "import pandas as pd\n",
    "import numpy as np\n",
    "import matplotlib.pyplot as plt\n",
    "from tqdm import tqdm\n",
    "from itertools import combinations\n",
    "import math"
   ]
  },
  {
   "cell_type": "code",
   "execution_count": 7,
   "metadata": {},
   "outputs": [
    {
     "data": {
      "text/plain": [
       "(499, 2)"
      ]
     },
     "execution_count": 7,
     "metadata": {},
     "output_type": "execute_result"
    }
   ],
   "source": [
    "K = 3\n",
    "# columns = ['instrumentalness', 'liveness']\n",
    "# df = pd.read_csv('./dataset/spotify.csv')[columns]\n",
    "columns = ['Height', 'Weight']\n",
    "df = pd.read_csv('./dataset/height-weight-sex-train.csv')[columns]\n",
    "dataset = df.to_numpy()\n",
    "dataset.shape"
   ]
  },
  {
   "cell_type": "code",
   "execution_count": 8,
   "metadata": {},
   "outputs": [],
   "source": [
    "def get_single_link(cluster1, cluster2):\n",
    "    N1, D = cluster1.shape\n",
    "    N2, D = cluster2.shape\n",
    "    operand1 = np.tile(cluster1, reps=N2).reshape(N1, N2, D)\n",
    "    operand2 = np.expand_dims(cluster2, axis=0)\n",
    "    return math.sqrt(((operand1 - operand2) ** 2).sum(axis=2).min())\n",
    "\n",
    "\n",
    "def get_average_link(cluster1, cluster2):\n",
    "    N1, D = cluster1.shape\n",
    "    N2, D = cluster2.shape\n",
    "    operand1 = np.tile(cluster1, reps=N2).reshape(N1, N2, D)\n",
    "    operand2 = np.expand_dims(cluster2, axis=0)\n",
    "    return math.sqrt(((operand1 - operand2) ** 2).sum(axis=2).mean())\n",
    "\n",
    "\n",
    "def get_next_clusters(clusters):\n",
    "    \"\"\"\n",
    "    Time complexity: O(N*(N-1)/2)\n",
    "    Distances:       average method\n",
    "    \"\"\"\n",
    "    N = len(clusters)\n",
    "    min_m, min_n = 0, 0\n",
    "    min_dist = float('inf')\n",
    "    for m, n in combinations(range(N), 2):\n",
    "        dist = get_average_link(clusters[m], clusters[n])\n",
    "        if dist < min_dist:\n",
    "            min_dist = dist\n",
    "            min_m = m\n",
    "            min_n = n\n",
    "    next_clusters = [clstr for i, clstr in enumerate(clusters)\n",
    "                     if i != min_m and i != min_n]\n",
    "    clstr1 = clusters[min_m]\n",
    "    clstr2 = clusters[min_n]\n",
    "    next_clusters.append(np.concatenate([clstr1, clstr2]))\n",
    "    return next_clusters"
   ]
  },
  {
   "cell_type": "code",
   "execution_count": 9,
   "metadata": {},
   "outputs": [
    {
     "name": "stderr",
     "output_type": "stream",
     "text": [
      "  0%|          | 0/496 [00:00<?, ?it/s]"
     ]
    },
    {
     "name": "stderr",
     "output_type": "stream",
     "text": [
      "100%|██████████| 496/496 [02:34<00:00,  3.22it/s]\n"
     ]
    }
   ],
   "source": [
    "iters = len(dataset)\n",
    "clusters = np.expand_dims(dataset, axis=1)\n",
    "for _ in tqdm(range(len(dataset), K, -1)):\n",
    "    clusters = get_next_clusters(clusters)"
   ]
  },
  {
   "cell_type": "code",
   "execution_count": 10,
   "metadata": {},
   "outputs": [
    {
     "data": {
      "image/png": "[encoded data removed]",
      "text/plain": [
       "<Figure size 640x480 with 1 Axes>"
      ]
     },
     "metadata": {},
     "output_type": "display_data"
    }
   ],
   "source": [
    "for c in clusters:\n",
    "    plt.scatter(c.T[0], c.T[1], s=1)\n",
    "plt.xlabel(columns[0])\n",
    "plt.ylabel(columns[1])\n",
    "plt.show()"
   ]
  }
 ],
 "metadata": {
  "kernelspec": {
   "display_name": "data-science",
   "language": "python",
   "name": "python3"
  },
  "language_info": {
   "codemirror_mode": {
    "name": "ipython",
    "version": 3
   },
   "file_extension": ".py",
   "mimetype": "text/x-python",
   "name": "python",
   "nbconvert_exporter": "python",
   "pygments_lexer": "ipython3",
   "version": "3.10.11"
  },
  "orig_nbformat": 4
 },
 "nbformat": 4,
 "nbformat_minor": 2
}
