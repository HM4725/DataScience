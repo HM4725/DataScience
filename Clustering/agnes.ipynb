{
 "cells": [
  {
   "cell_type": "code",
   "execution_count": null,
   "metadata": {},
   "outputs": [],
   "source": [
    "import pandas as pd\n",
    "import numpy as np\n",
    "import matplotlib.pyplot as plt\n",
    "from tqdm import tqdm\n",
    "from itertools import combinations"
   ]
  },
  {
   "cell_type": "code",
   "execution_count": null,
   "metadata": {},
   "outputs": [],
   "source": [
    "K = 3\n",
    "# columns = ['instrumentalness', 'liveness']\n",
    "# df = pd.read_csv('./dataset/spotify.csv')[columns]\n",
    "columns = ['Height', 'Weight']\n",
    "df = pd.read_csv('./dataset/height-weight-sex-train.csv')[columns]\n",
    "dataset = df.to_numpy()\n",
    "dataset.shape"
   ]
  },
  {
   "cell_type": "code",
   "execution_count": null,
   "metadata": {},
   "outputs": [],
   "source": [
    "def get_next_clusters(clusters):\n",
    "    \"\"\"\n",
    "    Time complexity: O(N*(N-1)/2)\n",
    "    Distances:       average method\n",
    "    \"\"\"\n",
    "    N = len(clusters)\n",
    "    centroids = [np.mean(c, axis=0) for c in clusters]\n",
    "    min_m, min_n = 0, 0\n",
    "    min_diss = float('inf')\n",
    "    for m, n in combinations(range(N), 2):\n",
    "        ctrd1 = centroids[m]\n",
    "        ctrd2 = centroids[n]\n",
    "        diss = np.abs(ctrd1 - ctrd2).sum()\n",
    "        if diss < min_diss:\n",
    "            min_diss = diss\n",
    "            min_m = m\n",
    "            min_n = n\n",
    "    next_clusters = [clstr for i, clstr in enumerate(clusters)\n",
    "                     if i != min_m and i != min_n]\n",
    "    clstr1 = clusters[min_m]\n",
    "    clstr2 = clusters[min_n]\n",
    "    next_clusters.append(np.concatenate([clstr1, clstr2]))\n",
    "    return next_clusters"
   ]
  },
  {
   "cell_type": "code",
   "execution_count": null,
   "metadata": {},
   "outputs": [],
   "source": [
    "iters = len(dataset)\n",
    "clusters = np.expand_dims(dataset, axis=1)\n",
    "for _ in tqdm(range(len(dataset), K, -1)):\n",
    "    clusters = get_next_clusters(clusters)"
   ]
  },
  {
   "cell_type": "code",
   "execution_count": null,
   "metadata": {},
   "outputs": [],
   "source": [
    "for c in clusters:\n",
    "    plt.scatter(c.T[0], c.T[1], s=1)\n",
    "plt.xlabel(columns[0])\n",
    "plt.ylabel(columns[1])\n",
    "plt.show()"
   ]
  }
 ],
 "metadata": {
  "kernelspec": {
   "display_name": "data-science",
   "language": "python",
   "name": "python3"
  },
  "language_info": {
   "codemirror_mode": {
    "name": "ipython",
    "version": 3
   },
   "file_extension": ".py",
   "mimetype": "text/x-python",
   "name": "python",
   "nbconvert_exporter": "python",
   "pygments_lexer": "ipython3",
   "version": "3.10.11"
  },
  "orig_nbformat": 4
 },
 "nbformat": 4,
 "nbformat_minor": 2
}
