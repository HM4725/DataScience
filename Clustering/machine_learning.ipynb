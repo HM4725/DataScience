{
 "cells": [
  {
   "cell_type": "code",
   "execution_count": null,
   "metadata": {},
   "outputs": [],
   "source": [
    "import torch\n",
    "import torch.optim as optim\n",
    "import pandas as pd\n",
    "import os\n",
    "import numpy as np\n",
    "from tqdm import tqdm"
   ]
  },
  {
   "cell_type": "code",
   "execution_count": null,
   "metadata": {},
   "outputs": [],
   "source": [
    "df_1 = pd.read_csv('./dataset/archive/data1.csv',\n",
    "                   header=None,\n",
    "                   names=['movie_id', 'customer_id', 'rating', 'date'],\n",
    "                   parse_dates=['date'],\n",
    "                   usecols=range(4)\n",
    "                   )\n",
    "# df_2 = pd.read_csv('./dataset/archive/data2.csv',\n",
    "#                    header=None,\n",
    "#                    names=['movie_id', 'customer_id', 'rating', 'date'],\n",
    "#                    parse_dates=['date'],\n",
    "#                    usecols=range(4)\n",
    "#                    )\n",
    "# df_3 = pd.read_csv('./dataset/archive/data3.csv',\n",
    "#                    header=None,\n",
    "#                    names=['movie_id', 'customer_id', 'rating', 'date'],\n",
    "#                    parse_dates=['date'],\n",
    "#                    usecols=range(4)\n",
    "#                    )\n",
    "# df_4 = pd.read_csv('./dataset/archive/data4.csv',\n",
    "#                    header=None,\n",
    "#                    names=['movie_id', 'customer_id', 'rating', 'date'],\n",
    "#                    parse_dates=['date'],\n",
    "#                    usecols=range(4)\n",
    "#                    )"
   ]
  },
  {
   "cell_type": "code",
   "execution_count": null,
   "metadata": {},
   "outputs": [],
   "source": [
    "# df = pd.concat([df_1, df_2, df_3, df_4])\n",
    "df = df_1[['movie_id', 'customer_id', 'rating']][:10000]"
   ]
  },
  {
   "cell_type": "code",
   "execution_count": null,
   "metadata": {},
   "outputs": [],
   "source": [
    "movies = df['movie_id'].unique()\n",
    "r_movies = {v : i for i, v in enumerate(movies)}\n",
    "customers = df['customer_id'].unique()\n",
    "r_customers = {v : i for i, v in enumerate(customers)}\n",
    "print(len(movies), len(customers))"
   ]
  },
  {
   "cell_type": "code",
   "execution_count": null,
   "metadata": {},
   "outputs": [],
   "source": [
    "dataset = df.to_numpy()\n",
    "ratings = np.zeros((len(movies), len(customers)), dtype=np.float32)\n",
    "for d in tqdm(dataset):\n",
    "    ratings[r_movies[d[0]], r_customers[d[1]]] = d[2]"
   ]
  },
  {
   "cell_type": "code",
   "execution_count": null,
   "metadata": {},
   "outputs": [],
   "source": [
    "latent_size = 3\n",
    "movies_tensor = torch.rand(\n",
    "    len(movies), latent_size, requires_grad=True, device=\"mps\")\n",
    "customers_tensor = torch.rand(\n",
    "    len(customers), latent_size, requires_grad=True, device=\"mps\")\n",
    "ratings_tensor = torch.tensor(ratings, device='mps')"
   ]
  },
  {
   "cell_type": "code",
   "execution_count": null,
   "metadata": {},
   "outputs": [],
   "source": [
    "def loss(pred, real):\n",
    "    return ((real > 0) * ((pred - real)**2)).sum()\n",
    "\n",
    "\n",
    "lr = 1e-4\n",
    "iters = 1000\n",
    "for i in tqdm(range(iters)):\n",
    "    pred = (movies_tensor @ customers_tensor.T)\n",
    "    l = loss(pred, ratings_tensor)\n",
    "    l.backward()\n",
    "    movies_tensor.data -= lr * movies_tensor.grad.data\n",
    "    customers_tensor.data -= lr * customers_tensor.grad.data\n",
    "    movies_tensor.grad.zero_()\n",
    "    customers_tensor.grad.zero_()\n",
    "\n",
    "\n",
    "def predict(movie_id, customer_id):\n",
    "    latent_movie = movies_tensor[[r_movies[movie_id]]]\n",
    "    latent_customer = customers_tensor[[r_customers[customer_id]]]\n",
    "    return round((latent_movie @ latent_customer.T).item())\n",
    "\n",
    "\n",
    "print(movies_tensor)"
   ]
  },
  {
   "cell_type": "code",
   "execution_count": null,
   "metadata": {},
   "outputs": [],
   "source": [
    "correct = 0\n",
    "sum = 0\n",
    "for d in tqdm(dataset):\n",
    "    movie_id, customer_id, rating = d\n",
    "    if rating != 0:\n",
    "        sum += 1\n",
    "        pred = predict(movie_id, customer_id)\n",
    "        if rating == pred:\n",
    "            correct += 1"
   ]
  },
  {
   "cell_type": "code",
   "execution_count": null,
   "metadata": {},
   "outputs": [],
   "source": [
    "accuracy = correct / sum\n",
    "print(f'accuracy: {round(accuracy * 100, 2)}%')"
   ]
  }
 ],
 "metadata": {
  "kernelspec": {
   "display_name": "data-science",
   "language": "python",
   "name": "python3"
  },
  "language_info": {
   "codemirror_mode": {
    "name": "ipython",
    "version": 3
   },
   "file_extension": ".py",
   "mimetype": "text/x-python",
   "name": "python",
   "nbconvert_exporter": "python",
   "pygments_lexer": "ipython3",
   "version": "3.10.11"
  },
  "orig_nbformat": 4
 },
 "nbformat": 4,
 "nbformat_minor": 2
}
