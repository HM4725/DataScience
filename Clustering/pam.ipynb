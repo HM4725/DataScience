{
 "cells": [
  {
   "cell_type": "code",
   "execution_count": null,
   "metadata": {},
   "outputs": [],
   "source": [
    "import pandas as pd\n",
    "import numpy as np\n",
    "import matplotlib.pyplot as plt\n",
    "from tqdm import tqdm"
   ]
  },
  {
   "cell_type": "code",
   "execution_count": null,
   "metadata": {},
   "outputs": [],
   "source": [
    "def assign(dataset, medoids):\n",
    "    \"\"\"\n",
    "    Time complexity: O(K*N)\n",
    "    \"\"\"\n",
    "    K = len(medoids)\n",
    "    clusters = [[] for _ in range(K)]\n",
    "    assigned = [np.sum((np.tile(d, (K, 1)) - medoids)**2,\n",
    "                       axis=1).argmin() for d in dataset]\n",
    "    for i, c in enumerate(assigned):\n",
    "        clusters[c].append(dataset[i])\n",
    "    return assigned, list(map(np.array, clusters))\n",
    "\n",
    "\n",
    "def cost(clusters, seeds):\n",
    "    \"\"\"\n",
    "    Time complexity: O(N)\n",
    "    \"\"\"\n",
    "    K = len(seeds)\n",
    "    c = 0\n",
    "    for k in range(K):\n",
    "        cluster = clusters[k]\n",
    "        c += np.sum((np.tile(seeds[k], (len(cluster), 1)) - cluster)**2)\n",
    "    return c"
   ]
  },
  {
   "cell_type": "code",
   "execution_count": null,
   "metadata": {},
   "outputs": [],
   "source": [
    "K = 3\n",
    "columns = ['instrumentalness', 'liveness']\n",
    "df = pd.read_csv('./dataset/spotify.csv')[columns]\n",
    "dataset = df.to_numpy()\n",
    "seeds = [x for x in range(0, len(df), len(df)//K)][:K]\n",
    "medoids = dataset[seeds]"
   ]
  },
  {
   "cell_type": "code",
   "execution_count": null,
   "metadata": {},
   "outputs": [],
   "source": [
    "# PAM (Partitioning Around Medoids) Method\n",
    "\n",
    "seeds = medoids\n",
    "k_index, clusters = assign(dataset, seeds)\n",
    "t = 0\n",
    "old_cost = cost(clusters, seeds)\n",
    "changed = True\n",
    "\n",
    "while changed:\n",
    "    changed = False\n",
    "    t += 1\n",
    "    for k, o in tqdm(zip(k_index, dataset), desc=str(t), total=len(dataset)):\n",
    "        seed = seeds[k]\n",
    "        new_seeds = seeds.copy()\n",
    "        new_seeds[k] = o\n",
    "        _k_index, new_clusters = assign(dataset, new_seeds)\n",
    "        new_cost = cost(new_clusters, new_seeds)\n",
    "        if old_cost > new_cost:\n",
    "            seeds = new_seeds\n",
    "            clusters = new_clusters\n",
    "            new_k_index = _k_index\n",
    "            old_cost = new_cost\n",
    "            changed = True\n",
    "    k_index = new_k_index\n",
    "\n",
    "medoids = seeds"
   ]
  },
  {
   "cell_type": "code",
   "execution_count": null,
   "metadata": {},
   "outputs": [],
   "source": [
    "for c in clusters:\n",
    "    plt.scatter(c.T[0], c.T[1], s=1)\n",
    "for m in medoids:\n",
    "    plt.scatter(m[0], m[1], s=20, c='black')\n",
    "plt.xlabel(columns[0])\n",
    "plt.ylabel(columns[1])\n",
    "plt.show()"
   ]
  }
 ],
 "metadata": {
  "kernelspec": {
   "display_name": "data-science",
   "language": "python",
   "name": "python3"
  },
  "language_info": {
   "codemirror_mode": {
    "name": "ipython",
    "version": 3
   },
   "file_extension": ".py",
   "mimetype": "text/x-python",
   "name": "python",
   "nbconvert_exporter": "python",
   "pygments_lexer": "ipython3",
   "version": "3.10.11"
  },
  "orig_nbformat": 4
 },
 "nbformat": 4,
 "nbformat_minor": 2
}
